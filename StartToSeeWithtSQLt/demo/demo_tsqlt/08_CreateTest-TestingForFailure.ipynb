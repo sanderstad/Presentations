{
    "metadata": {
        "kernelspec": {
            "name": "SQL",
            "display_name": "SQL",
            "language": "sql"
        },
        "language_info": {
            "name": "sql",
            "version": ""
        }
    },
    "nbformat_minor": 2,
    "nbformat": 4,
    "cells": [
        {
            "cell_type": "markdown",
            "source": [
                "Cleanup"
            ],
            "metadata": {
                "azdata_cell_guid": "71e98025-9dc5-4c95-bcc3-4b1d6d37fa80"
            }
        },
        {
            "cell_type": "code",
            "source": [
                "USE [UnitTesting];\r\n",
                "GO\r\n",
                "DROP PROCEDURE IF EXISTS [TestUnitTesting].[test Procedure Person_Create - Create person without first name should return error Expect success];\r\n",
                "GO"
            ],
            "metadata": {
                "azdata_cell_guid": "202df3d5-ed5c-407c-a56f-bc73b6c27f0b"
            },
            "outputs": [],
            "execution_count": null
        },
        {
            "cell_type": "markdown",
            "source": [
                "Create the test"
            ],
            "metadata": {
                "azdata_cell_guid": "384e722e-a43d-4f22-b288-cc5216656f73"
            }
        },
        {
            "cell_type": "code",
            "source": [
                "USE [UnitTesting];\r\n",
                "GO\r\n",
                "/*\r\n",
                "Description:\r\n",
                "Test the procedure Person_Create\r\n",
                "\r\n",
                "Changes:\r\n",
                "Date\t\tWho\t\t\t\t\t\tNotes\r\n",
                "----------\t---\t\t\t\t\t\t--------------------------------------------------------------\r\n",
                "10/08/2019\tSander Stad\t\t\t\tInitial procedure\r\n",
                "*/\r\n",
                "CREATE PROCEDURE [TestUnitTesting].[test Procedure Person_Create - Create person without first name should return error Expect success]\r\n",
                "AS\r\n",
                "BEGIN\r\n",
                "    SET NOCOUNT ON;\r\n",
                "\r\n",
                "    ----- ASSEMBLE -----------------------------------------------\r\n",
                "\r\n",
                "    -- Declare the variables\r\n",
                "    DECLARE @actual INT;\r\n",
                "\r\n",
                "    EXEC tSQLt.FakeTable @TableName = N'[dbo].[Person]',\r\n",
                "                         @Identity = 1,\r\n",
                "                         @ComputedColumns = 1,\r\n",
                "                         @Defaults = 1;\r\n",
                "\r\n",
                "\r\n",
                "    -- Get the expected value\r\n",
                "    EXEC tSQLt.ExpectException @ExpectedMessage = 'Invalid parameter: @FirstName cannot be NULL!',\r\n",
                "                               @ExpectedSeverity = NULL,\r\n",
                "                               @ExpectedState = NULL;\r\n",
                "\r\n",
                "    ----- ACT ----------------------------------------------------\r\n",
                "\r\n",
                "    -- Execute the procedure\r\n",
                "    EXEC dbo.Person_Create @PersonID = @actual OUTPUT,  -- int\r\n",
                "                           @LastName = 'Doe',           -- varchar(50)\r\n",
                "                           @Address = 'Main street 7',  -- varchar(100)\r\n",
                "                           @City = 'Whatever',          -- varchar(50)\r\n",
                "                           @Zipcode = '12345',          -- varchar(8)\r\n",
                "                           @Country = 'Republic of Me', -- varchar(50)\r\n",
                "                           @Email = 'test@test1.com';   -- varchar(100)\r\n",
                "\r\n",
                "----- ASSERT -------------------------------------------------\r\n",
                "\r\n",
                "--Not neccessary\r\n",
                "\r\n",
                "END;"
            ],
            "metadata": {
                "azdata_cell_guid": "4eefadcc-b71d-4b76-8c5f-b63ec6c67ee2"
            },
            "outputs": [],
            "execution_count": null
        },
        {
            "cell_type": "markdown",
            "source": [
                "Run the test"
            ],
            "metadata": {
                "azdata_cell_guid": "22e13ea1-23d0-458c-841a-b6b5ff665c15"
            }
        },
        {
            "cell_type": "code",
            "source": [
                "USE [UnitTesting]\r\n",
                "GO\r\n",
                "EXEC tSQLt.Run @TestName = N'[TestUnitTesting].[test Procedure Person_Create - Create person without first name should return error Expect success]';"
            ],
            "metadata": {
                "azdata_cell_guid": "eb535ac8-492c-4c80-8faf-315eff6f0db5"
            },
            "outputs": [],
            "execution_count": null
        },
        {
            "cell_type": "markdown",
            "source": [
                "Run all the tests"
            ],
            "metadata": {
                "azdata_cell_guid": "88e21bd4-ab83-49b0-afc9-3c19da08b668"
            }
        },
        {
            "cell_type": "code",
            "source": [
                "USE [UnitTesting]\r\n",
                "GO\r\n",
                "EXEC tSQLt.RunAll;"
            ],
            "metadata": {
                "azdata_cell_guid": "e96e878a-6c56-4d5c-9d02-613fdbc09a00"
            },
            "outputs": [],
            "execution_count": null
        },
        {
            "cell_type": "markdown",
            "source": [
                "Get the results in XML format"
            ],
            "metadata": {
                "azdata_cell_guid": "391d3f5b-bfab-4e58-aa36-1865c10bcad8"
            }
        },
        {
            "cell_type": "code",
            "source": [
                "USE [UnitTesting]\r\n",
                "GO\r\n",
                "EXEC tSQLt.XmlResultFormatter;"
            ],
            "metadata": {
                "azdata_cell_guid": "15c5bfdf-9a04-4438-aff1-ea04185fa5a9"
            },
            "outputs": [],
            "execution_count": null
        }
    ]
}