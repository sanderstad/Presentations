{
    "metadata": {
        "kernelspec": {
            "name": "SQL",
            "display_name": "SQL",
            "language": "sql"
        },
        "language_info": {
            "name": "sql",
            "version": ""
        }
    },
    "nbformat_minor": 2,
    "nbformat": 4,
    "cells": [
        {
            "cell_type": "markdown",
            "source": [
                "Clean up our environment"
            ],
            "metadata": {
                "azdata_cell_guid": "0e9e624b-a48e-4b28-9b7a-4977a2a71c9e"
            }
        },
        {
            "cell_type": "code",
            "source": [
                "USE master;\r\n",
                "GO\r\n",
                "DECLARE @dbname NVARCHAR(128) = N'UnitTesting';\r\n",
                "\r\n",
                "IF (\r\n",
                "    EXISTS(\r\n",
                "        SELECT name\r\n",
                "        FROM master.dbo.sysdatabases\r\n",
                "        WHERE ('[' + name + ']' = @dbname OR name = @dbname)\r\n",
                "    )\r\n",
                ")\r\n",
                "BEGIN\r\n",
                "    ALTER DATABASE [UnitTesting] SET SINGLE_USER WITH ROLLBACK IMMEDIATE;\r\n",
                "END\r\n",
                "GO\r\n",
                "DROP DATABASE IF EXISTS UnitTesting;\r\n",
                "GO\r\n",
                "-- Cleanup\r\n",
                "DROP PROCEDURE IF EXISTS [dbo].[Person_Create];\r\n",
                "DROP PROCEDURE IF EXISTS [dbo].[Person_GetAll];\r\n",
                "GO"
            ],
            "metadata": {
                "azdata_cell_guid": "a3ab5ba9-9ea9-45fe-8edd-dac3bd30e225"
            },
            "outputs": [],
            "execution_count": 1
        },
        {
            "cell_type": "markdown",
            "source": [
                "Create the database"
            ],
            "metadata": {
                "azdata_cell_guid": "241eb76f-59ba-438d-93dc-3ffdad01e253"
            }
        },
        {
            "cell_type": "code",
            "source": [
                "CREATE DATABASE UnitTesting;\n",
                "GO"
            ],
            "metadata": {
                "azdata_cell_guid": "c4df26df-5d3a-4606-ba76-04ad7c57f9db"
            },
            "outputs": [],
            "execution_count": 3
        },
        {
            "cell_type": "markdown",
            "source": [
                "Create the tables"
            ],
            "metadata": {
                "azdata_cell_guid": "92b804aa-6a8f-45ad-9d7a-ba4f85875753"
            }
        },
        {
            "cell_type": "code",
            "source": [
                "USE [UnitTesting];\r\n",
                "GO\r\n",
                "\r\n",
                "CREATE TABLE [dbo].[Person]\r\n",
                "(\r\n",
                "    [PersonId] [INT] IDENTITY(1, 1) NOT NULL,\r\n",
                "    [FirstName] [VARCHAR](50) NOT NULL,\r\n",
                "    [LastName] [VARCHAR](50) NOT NULL,\r\n",
                "    [Address] [VARCHAR](100) NOT NULL,\r\n",
                "    [City] [VARCHAR](50) NOT NULL,\r\n",
                "    [Zipcode] [VARCHAR](8) NOT NULL,\r\n",
                "    [Country] [VARCHAR](50) NOT NULL,\r\n",
                "    [Email] [VARCHAR](100) NOT NULL,\r\n",
                "    CONSTRAINT [PK_Person]\r\n",
                "        PRIMARY KEY CLUSTERED ([PersonId] ASC)\r\n",
                "        WITH (PAD_INDEX = OFF, STATISTICS_NORECOMPUTE = OFF, IGNORE_DUP_KEY = OFF, ALLOW_ROW_LOCKS = ON,\r\n",
                "              ALLOW_PAGE_LOCKS = ON\r\n",
                "             ) ON [PRIMARY]\r\n",
                ") ON [PRIMARY];\r\n",
                "GO\r\n",
                "\r\n",
                "CREATE TABLE [dbo].[Customer]\r\n",
                "(\r\n",
                "    [CustomerID] [INT] IDENTITY(1, 1) NOT NULL,\r\n",
                "    [PersonID] [INT] NOT NULL,\r\n",
                "    [AccountNumber] [INT] NOT NULL,\r\n",
                "    CONSTRAINT [PK_Customer]\r\n",
                "        PRIMARY KEY CLUSTERED ([CustomerID] ASC)\r\n",
                "        WITH (PAD_INDEX = OFF, STATISTICS_NORECOMPUTE = OFF, IGNORE_DUP_KEY = OFF, ALLOW_ROW_LOCKS = ON,\r\n",
                "              ALLOW_PAGE_LOCKS = ON\r\n",
                "             ) ON [PRIMARY]\r\n",
                ") ON [PRIMARY];\r\n",
                "GO\r\n",
                "\r\n",
                "ALTER TABLE [dbo].[Customer] WITH CHECK\r\n",
                "ADD CONSTRAINT [FK_Customer_person]\r\n",
                "    FOREIGN KEY ([PersonID])\r\n",
                "    REFERENCES [dbo].[Person] ([PersonId]);\r\n",
                "GO\r\n",
                "\r\n",
                "ALTER TABLE [dbo].[Customer] CHECK CONSTRAINT [FK_Customer_person];\r\n",
                "GO"
            ],
            "metadata": {
                "azdata_cell_guid": "db7ace39-0fd9-430d-9803-16a60b34d994"
            },
            "outputs": [],
            "execution_count": 4
        },
        {
            "cell_type": "markdown",
            "source": [
                "Create the procedures"
            ],
            "metadata": {
                "azdata_cell_guid": "57add901-3431-4a86-8bb2-0c48e309b463"
            }
        },
        {
            "cell_type": "code",
            "source": [
                "USE [UnitTesting];\r\n",
                "GO\r\n",
                "\r\n",
                "/*\r\n",
                "Description:\r\n",
                "Create a new person\r\n",
                "\r\n",
                "Changes:\r\n",
                "Date\t\tWho\t\t\t\t\t\tNotes\r\n",
                "----------\t---\t\t\t\t\t\t--------------------------------------------------------------\r\n",
                "10/08/2019\tSander Stad\t\t\t\tInitial procedure\r\n",
                "*/\r\n",
                "CREATE PROCEDURE [dbo].[Person_Create]\r\n",
                "    @PersonID INT OUTPUT,\r\n",
                "    @FirstName VARCHAR(50) = NULL,\r\n",
                "    @LastName VARCHAR(50) = NULL,\r\n",
                "    @Address VARCHAR(100) = NULL,\r\n",
                "    @City VARCHAR(50) = NULL,\r\n",
                "    @Zipcode VARCHAR(8) = NULL,\r\n",
                "    @Country VARCHAR(50) = NULL,\r\n",
                "    @Email VARCHAR(100) = NULL\r\n",
                "AS\r\n",
                "BEGIN\r\n",
                "\r\n",
                "\r\n",
                "    -- Set session options to make sure transactions are aborted correctly\r\n",
                "    -- and the procedure doesn't return the count\r\n",
                "    SET XACT_ABORT, NOCOUNT ON;\r\n",
                "\r\n",
                "    -- Check the parameters\r\n",
                "    IF (@FirstName IS NULL)\r\n",
                "    BEGIN\r\n",
                "        ;\r\n",
                "        THROW 50000, 'Invalid parameter: @FirstName cannot be NULL!', 1;\r\n",
                "        RETURN;\r\n",
                "    END;\r\n",
                "\r\n",
                "    -- Declare variables\r\n",
                "    DECLARE @sqlcmd NVARCHAR(MAX);\r\n",
                "    DECLARE @params NVARCHAR(MAX);\r\n",
                "\r\n",
                "\r\n",
                "\r\n",
                "    -- Set the SQL command\r\n",
                "    SET @sqlcmd\r\n",
                "        = N'\r\n",
                "\t\t\tINSERT INTO dbo.Person(FirstName,LastName,Address,City,Zipcode,Country,Email) \r\n",
                "\t\t\tVALUES (@FirstName, @LastName, @Address, @City, @Zipcode, @Country, @Email);\r\n",
                "\r\n",
                "\t\t\tSELECT @PersonID = SCOPE_IDENTITY();\r\n",
                "\t\t';\r\n",
                "\r\n",
                "    SET @params\r\n",
                "        = N'\r\n",
                "\t\t\t@PersonID INT OUTPUT,\r\n",
                "\t\t\t@FirstName VARCHAR(50),\r\n",
                "\t\t\t@LastName VARCHAR(50),\r\n",
                "\t\t\t@Address VARCHAR(100),\r\n",
                "\t\t\t@City VARCHAR(50),\r\n",
                "\t\t\t@Zipcode VARCHAR(8),\r\n",
                "\t\t\t@Country VARCHAR(50),\r\n",
                "\t\t\t@Email VARCHAR(100)\r\n",
                "\t\t';\r\n",
                "\r\n",
                "    EXECUTE sp_executesql @stmnt = @sqlcmd,\r\n",
                "                          @params = @params,\r\n",
                "                          @FirstName = @FirstName,\r\n",
                "                          @LastName = @LastName,\r\n",
                "                          @Address = @Address,\r\n",
                "                          @City = @City,\r\n",
                "                          @Zipcode = @Zipcode,\r\n",
                "                          @Country = @Country,\r\n",
                "                          @Email = @Email,\r\n",
                "                          @PersonID = @PersonID OUTPUT;\r\n",
                "\r\n",
                "END;\r\n",
                "\r\n",
                "GO\r\n",
                "\r\n",
                "/*\r\n",
                "Description:\r\n",
                "Procedure to get all persons\r\n",
                "\r\n",
                "Changes:\r\n",
                "Date\t\tWho\t\t\t\t\t\tNotes\r\n",
                "----------\t---\t\t\t\t\t\t--------------------------------------------------------------\r\n",
                "10/08/2019\tSander Stad\t\t\t\tInitial procedure\r\n",
                "*/\r\n",
                "CREATE PROCEDURE [dbo].[Person_GetAll]\r\n",
                "AS\r\n",
                "BEGIN\r\n",
                "    SET NOCOUNT ON;\r\n",
                "\r\n",
                "    -- Execute the SQL command\r\n",
                "    SELECT PersonId,\r\n",
                "           FirstName,\r\n",
                "           LastName,\r\n",
                "           Address,\r\n",
                "           City,\r\n",
                "           Zipcode,\r\n",
                "           Country,\r\n",
                "           Email\r\n",
                "    FROM [dbo].[Person];\r\n",
                "\r\n",
                "END;"
            ],
            "metadata": {
                "azdata_cell_guid": "29a4d680-86cf-4f12-86b2-d8d4b7fb5aaa"
            },
            "outputs": [],
            "execution_count": 4
        }
    ]
}