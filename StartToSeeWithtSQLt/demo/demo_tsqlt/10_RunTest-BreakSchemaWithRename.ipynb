{
    "metadata": {
        "kernelspec": {
            "name": "SQL",
            "display_name": "SQL",
            "language": "sql"
        },
        "language_info": {
            "name": "sql",
            "version": ""
        }
    },
    "nbformat_minor": 2,
    "nbformat": 4,
    "cells": [
        {
            "cell_type": "markdown",
            "source": [
                "Rename the column"
            ],
            "metadata": {
                "azdata_cell_guid": "db520ba4-b2eb-4924-bd1c-a2d900e41e3f"
            }
        },
        {
            "cell_type": "code",
            "source": [
                "USE UnitTesting;\r\n",
                "GO\r\n",
                "ALTER TABLE Person \r\n",
                "ALTER COLUMN Email VARCHAR(20) NULL"
            ],
            "metadata": {
                "azdata_cell_guid": "91a34060-b072-452e-940c-8770e799d587"
            },
            "outputs": [],
            "execution_count": null
        },
        {
            "cell_type": "markdown",
            "source": [
                "Run all the tests"
            ],
            "metadata": {
                "azdata_cell_guid": "3632a278-e0d4-43b8-abdd-fc1e5b07138e"
            }
        },
        {
            "cell_type": "code",
            "source": [
                "EXEC tSQLt.RunAll;"
            ],
            "metadata": {
                "azdata_cell_guid": "283edd6f-a33a-4c26-a286-3b8e31cc4d40"
            },
            "outputs": [],
            "execution_count": null
        },
        {
            "cell_type": "markdown",
            "source": [
                "Put it all back in place"
            ],
            "metadata": {
                "azdata_cell_guid": "8ed435e2-d6d9-4aa1-a209-aef9ef783615"
            }
        },
        {
            "cell_type": "code",
            "source": [
                "USE UnitTesting;\r\n",
                "GO\r\n",
                "ALTER TABLE Person \r\n",
                "ALTER COLUMN Email VARCHAR(100) NOT NULL"
            ],
            "metadata": {
                "azdata_cell_guid": "9352fac2-e373-41a5-9269-928956c56a9d"
            },
            "outputs": [],
            "execution_count": null
        },
        {
            "cell_type": "markdown",
            "source": [
                "Run all the tests"
            ],
            "metadata": {
                "azdata_cell_guid": "8ecb8245-14f9-46b1-8841-274d88244b32"
            }
        },
        {
            "cell_type": "code",
            "source": [
                "EXEC tSQLt.RunAll;"
            ],
            "metadata": {
                "azdata_cell_guid": "41e043b5-3044-40dd-8884-38b3355cacac"
            },
            "outputs": [],
            "execution_count": null
        }
    ]
}