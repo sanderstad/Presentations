{
    "metadata": {
        "kernelspec": {
            "name": "SQL",
            "display_name": "SQL",
            "language": "sql"
        },
        "language_info": {
            "name": "sql",
            "version": ""
        }
    },
    "nbformat_minor": 2,
    "nbformat": 4,
    "cells": [
        {
            "cell_type": "markdown",
            "source": [
                "Cleanup"
            ],
            "metadata": {
                "azdata_cell_guid": "41b997ac-da81-4574-9c6f-2d5b293e66b7"
            }
        },
        {
            "cell_type": "code",
            "source": [
                "USE [UnitTesting]\r\n",
                "GO\r\n",
                "DROP PROCEDURE IF EXISTS [TestBasic].[test If table dbo.Person has the correct columns];"
            ],
            "metadata": {
                "azdata_cell_guid": "4073dffc-6a35-4562-89d1-ef9934890e9d"
            },
            "outputs": [],
            "execution_count": null
        },
        {
            "cell_type": "markdown",
            "source": [
                "Create the test"
            ],
            "metadata": {
                "azdata_cell_guid": "2d025d37-1dec-4cc7-91fb-eea108a615c7"
            }
        },
        {
            "cell_type": "code",
            "source": [
                "USE [UnitTesting]\r\n",
                "GO\r\n",
                "/*\r\n",
                "Description:\r\n",
                "Test if the table has the correct columns\r\n",
                "\r\n",
                "Changes:\r\n",
                "Date\t\tWho\t\t\t\t\t\tNotes\r\n",
                "----------\t---\t\t\t\t\t\t--------------------------------------------------------------\r\n",
                "10/08/2019\tSander Stad\t\t\t\tInitial procedure\r\n",
                "*/\r\n",
                "CREATE PROCEDURE [TestBasic].[test If table dbo.Person has the correct columns]\r\n",
                "AS\r\n",
                "BEGIN\r\n",
                "    SET NOCOUNT ON;\r\n",
                "\r\n",
                "    ----- ASSEMBLE -----------------------------------------------\r\n",
                "    -- Create the tables\r\n",
                "    CREATE TABLE #actual\r\n",
                "    (\r\n",
                "        [ColumnName] sysname NOT NULL,\r\n",
                "        [DataType] sysname NOT NULL,\r\n",
                "        [LengthSize] SMALLINT NOT NULL,\r\n",
                "        [Precision] TINYINT NOT NULL\r\n",
                "    );\r\n",
                "\r\n",
                "    CREATE TABLE #expected\r\n",
                "    (\r\n",
                "        [ColumnName] sysname NOT NULL,\r\n",
                "        [DataType] sysname NOT NULL,\r\n",
                "        [LengthSize] SMALLINT NOT NULL,\r\n",
                "        [Precision] TINYINT NOT NULL\r\n",
                "    );\r\n",
                "\r\n",
                "    INSERT INTO #expected\r\n",
                "    (\r\n",
                "        ColumnName,\r\n",
                "        DataType,\r\n",
                "        LengthSize,\r\n",
                "        Precision\r\n",
                "    )\r\n",
                "    VALUES\r\n",
                "    (   'Address', -- ColumnName - sysname\r\n",
                "        'varchar', -- DataType - sysname\r\n",
                "        100,       -- LengthSize - smallint\r\n",
                "        0          -- Precision - tinyint\r\n",
                "        ),\r\n",
                "    (   'City',    -- ColumnName - sysname\r\n",
                "        'varchar', -- DataType - sysname\r\n",
                "        50,        -- LengthSize - smallint\r\n",
                "        0          -- Precision - tinyint\r\n",
                "    ),\r\n",
                "    (   'Country', -- ColumnName - sysname\r\n",
                "        'varchar', -- DataType - sysname\r\n",
                "        50,        -- LengthSize - smallint\r\n",
                "        0          -- Precision - tinyint\r\n",
                "    ),\r\n",
                "    (   'Email',   -- ColumnName - sysname\r\n",
                "        'varchar', -- DataType - sysname\r\n",
                "        100,       -- LengthSize - smallint\r\n",
                "        0          -- Precision - tinyint\r\n",
                "    ),\r\n",
                "    (   'FirstName', -- ColumnName - sysname\r\n",
                "        'varchar',   -- DataType - sysname\r\n",
                "        50,          -- LengthSize - smallint\r\n",
                "        0            -- Precision - tinyint\r\n",
                "    ),\r\n",
                "    (   'LastName', -- ColumnName - sysname\r\n",
                "        'varchar',  -- DataType - sysname\r\n",
                "        50,         -- LengthSize - smallint\r\n",
                "        0           -- Precision - tinyint\r\n",
                "    ),\r\n",
                "    (   'PersonId', -- ColumnName - sysname\r\n",
                "        'int',      -- DataType - sysname\r\n",
                "        4,          -- LengthSize - smallint\r\n",
                "        10          -- Precision - tinyint\r\n",
                "    ),\r\n",
                "    (   'Zipcode', -- ColumnName - sysname\r\n",
                "        'varchar', -- DataType - sysname\r\n",
                "        8,         -- LengthSize - smallint\r\n",
                "        0          -- Precision - tinyint\r\n",
                "    );\r\n",
                "\r\n",
                "    ----- ACT ----------------------------------------------------\r\n",
                "\r\n",
                "    INSERT INTO #actual\r\n",
                "    (\r\n",
                "        ColumnName,\r\n",
                "        DataType,\r\n",
                "        LengthSize,\r\n",
                "        Precision\r\n",
                "    )\r\n",
                "    SELECT c.name AS ColumnName,\r\n",
                "        st.name AS DataType,\r\n",
                "        c.max_length AS LengthSize,\r\n",
                "        c.precision AS [Precision]\r\n",
                "    FROM sys.columns AS c\r\n",
                "        INNER JOIN sys.tables AS t\r\n",
                "            ON t.object_id = c.object_id\r\n",
                "        INNER JOIN sys.schemas AS s\r\n",
                "            ON s.schema_id = t.schema_id\r\n",
                "        LEFT JOIN sys.types AS st\r\n",
                "            ON st.user_type_id = c.user_type_id\r\n",
                "    WHERE t.type = 'U'\r\n",
                "        AND s.name = 'dbo'\r\n",
                "        AND t.name = 'Person'\r\n",
                "    ORDER BY t.name,\r\n",
                "            c.name;\r\n",
                "\r\n",
                "\r\n",
                "    ----- ASSERT -------------------------------------------------\r\n",
                "\r\n",
                "    -- Assert to have th same table\r\n",
                "    EXEC tSQLt.AssertEqualsTable @Expected = '#expected', @Actual = '#actual';\r\n",
                "\r\n",
                "\r\n",
                "END;\r\n",
                "GO"
            ],
            "metadata": {
                "azdata_cell_guid": "352c1f04-2120-4a49-a0c5-addde6d5b21a"
            },
            "outputs": [],
            "execution_count": null
        },
        {
            "cell_type": "markdown",
            "source": [
                "Run this test"
            ],
            "metadata": {
                "azdata_cell_guid": "5cc134ff-c635-4a72-85d3-0616f31d7f92"
            }
        },
        {
            "cell_type": "code",
            "source": [
                "USE [UnitTesting]\r\n",
                "GO\r\n",
                "EXEC tSQLt.Run @TestName = N'[TestBasic].[test If table dbo.Person has the correct columns]';"
            ],
            "metadata": {
                "azdata_cell_guid": "d60c0b96-cfbd-473b-bc67-823b59f6e17a"
            },
            "outputs": [],
            "execution_count": null
        },
        {
            "cell_type": "markdown",
            "source": [
                "Run all the tests"
            ],
            "metadata": {
                "azdata_cell_guid": "86de6299-0ebe-40db-8722-2f3cf0057677"
            }
        },
        {
            "cell_type": "code",
            "source": [
                "USE [UnitTesting]\r\n",
                "GO\r\n",
                "EXEC tSQLt.RunAll;"
            ],
            "metadata": {
                "azdata_cell_guid": "4949be37-9053-4c21-a07e-5d1f04401b68"
            },
            "outputs": [],
            "execution_count": null
        }
    ]
}