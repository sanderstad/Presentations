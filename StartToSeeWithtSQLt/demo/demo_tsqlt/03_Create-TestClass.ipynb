{
    "metadata": {
        "kernelspec": {
            "name": "SQL",
            "display_name": "SQL",
            "language": "sql"
        },
        "language_info": {
            "name": "sql",
            "version": ""
        }
    },
    "nbformat_minor": 2,
    "nbformat": 4,
    "cells": [
        {
            "cell_type": "markdown",
            "source": [
                "Create the test class for the basic tests like existence of objects"
            ],
            "metadata": {
                "azdata_cell_guid": "0f06d46c-f4be-4c51-8f47-4f519ed9494d"
            }
        },
        {
            "cell_type": "code",
            "source": [
                "USE [UnitTesting]\r\n",
                "GO\r\n",
                "EXEC tSQLt.NewTestClass 'TestBasic';"
            ],
            "metadata": {
                "azdata_cell_guid": "02d5a4c2-58e7-419f-9cb2-19c17d8aad75"
            },
            "outputs": [],
            "execution_count": null
        },
        {
            "cell_type": "markdown",
            "source": [
                "Create the test class containing all the other unit tests"
            ],
            "metadata": {
                "azdata_cell_guid": "4f6d1bed-c92b-47ea-b900-4a98c2b3471b"
            }
        },
        {
            "cell_type": "code",
            "source": [
                "USE [UnitTesting]\r\n",
                "GO\r\n",
                "EXEC tSQLt.NewTestClass 'TestUnitTesting';"
            ],
            "metadata": {
                "azdata_cell_guid": "66fcf2fa-bb67-45e6-93b2-0f020ccbd44c"
            },
            "outputs": [],
            "execution_count": null
        },
        {
            "cell_type": "markdown",
            "source": [
                "Select the test classes"
            ],
            "metadata": {
                "azdata_cell_guid": "53e82478-80c1-403e-817b-ff5f3412940f"
            }
        },
        {
            "cell_type": "code",
            "source": [
                "USE [UnitTesting]\n",
                "GO\n",
                "SELECT Name,\n",
                "       SchemaId\n",
                "FROM tSQLt.TestClasses;"
            ],
            "metadata": {
                "azdata_cell_guid": "64d1afb1-6196-439c-8887-919608307f4d"
            },
            "outputs": [],
            "execution_count": null
        }
    ]
}