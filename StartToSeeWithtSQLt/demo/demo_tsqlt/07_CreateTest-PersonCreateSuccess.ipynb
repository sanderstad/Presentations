{
    "metadata": {
        "kernelspec": {
            "name": "SQL",
            "display_name": "SQL",
            "language": "sql"
        },
        "language_info": {
            "name": "sql",
            "version": ""
        }
    },
    "nbformat_minor": 2,
    "nbformat": 4,
    "cells": [
        {
            "cell_type": "markdown",
            "source": [
                "Cleanup"
            ],
            "metadata": {
                "azdata_cell_guid": "29f08ca7-3a88-4ce1-90c0-164475d3c9cd"
            }
        },
        {
            "cell_type": "code",
            "source": [
                "USE UnitTesting;\r\n",
                "GO\r\n",
                "DROP PROCEDURE IF EXISTS [TestUnitTesting].[test Procedure Person_Create - Create person];\r\n",
                "GO"
            ],
            "metadata": {
                "azdata_cell_guid": "489b26b1-4075-461c-919d-07a476e23362"
            },
            "outputs": [],
            "execution_count": null
        },
        {
            "cell_type": "markdown",
            "source": [
                "Create the test"
            ],
            "metadata": {
                "azdata_cell_guid": "07b63501-85ad-4fc6-9269-5407e0450fb9"
            }
        },
        {
            "cell_type": "code",
            "source": [
                "USE UnitTesting;\r\n",
                "GO\r\n",
                "/*\r\n",
                "Description:\r\n",
                "Test the procedure Person_Create\r\n",
                "\r\n",
                "Changes:\r\n",
                "Date\t\tWho\t\t\t\t\t\tNotes\r\n",
                "----------\t---\t\t\t\t\t\t--------------------------------------------------------------\r\n",
                "10/08/2019\tSander Stad\t\t\t\tInitial procedure\r\n",
                "*/\r\n",
                "CREATE PROCEDURE [TestUnitTesting].[test Procedure Person_Create - Create person]\r\n",
                "AS\r\n",
                "BEGIN\r\n",
                "    SET NOCOUNT ON;\r\n",
                "\r\n",
                "    ----- ASSEMBLE -----------------------------------------------\r\n",
                "\r\n",
                "    -- Declare the variables\r\n",
                "    DECLARE @actual INT,\r\n",
                "            @expected INT;\r\n",
                "\r\n",
                "    EXEC tSQLt.FakeTable @TableName = N'[dbo].[Person]',\r\n",
                "                         @Identity = 1,\r\n",
                "                         @ComputedColumns = 1,\r\n",
                "                         @Defaults = 1;\r\n",
                "\r\n",
                "    -- Get the expected value\r\n",
                "    SELECT @expected = IDENT_CURRENT('dbo.Person');\r\n",
                "\r\n",
                "\r\n",
                "    ----- ACT ----------------------------------------------------\r\n",
                "\r\n",
                "    -- Execute the procedure\r\n",
                "    EXEC dbo.Person_Create @PersonID = @actual OUTPUT,  -- int\r\n",
                "                           @FirstName = 'John',         -- varchar(50)\r\n",
                "                           @LastName = 'Doe',           -- varchar(50)\r\n",
                "                           @Address = 'Main street 7',  -- varchar(100)\r\n",
                "                           @City = 'Whatever',          -- varchar(50)\r\n",
                "                           @Zipcode = '12345',          -- varchar(8)\r\n",
                "                           @Country = 'Republic of Me', -- varchar(50)\r\n",
                "                           @Email = 'test@test1.com';   -- varchar(100)\r\n",
                "\r\n",
                "    ----- ASSERT -------------------------------------------------\r\n",
                "\r\n",
                "    EXEC tSQLt.AssertEquals @expected, @actual;\r\n",
                "\r\n",
                "END;"
            ],
            "metadata": {
                "azdata_cell_guid": "82143c3b-21fb-47de-b2ef-f6a8a9b37f19"
            },
            "outputs": [],
            "execution_count": null
        },
        {
            "cell_type": "markdown",
            "source": [
                "Run the test"
            ],
            "metadata": {
                "azdata_cell_guid": "ddd3d7a3-d73c-48c5-a968-d335bba11dcf"
            }
        },
        {
            "cell_type": "code",
            "source": [
                "USE UnitTesting;\r\n",
                "GO\r\n",
                "EXEC tSQLt.Run @TestName = N'[TestUnitTesting].[test Procedure Person_Create - Create person]';"
            ],
            "metadata": {
                "azdata_cell_guid": "67130610-7d37-4a7f-8463-9a1808b268ae"
            },
            "outputs": [],
            "execution_count": null
        },
        {
            "cell_type": "markdown",
            "source": [
                "Run All the tests"
            ],
            "metadata": {
                "azdata_cell_guid": "26b7f0fe-b99b-43f7-9a5f-58a14908d0d7"
            }
        },
        {
            "cell_type": "code",
            "source": [
                "USE UnitTesting;\r\n",
                "GO\r\n",
                "EXEC tSQLt.RunAll "
            ],
            "metadata": {
                "azdata_cell_guid": "ac134523-161d-4b5c-aa64-00bf98fc3f6c"
            },
            "outputs": [],
            "execution_count": null
        }
    ]
}